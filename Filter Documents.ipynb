{
 "cells": [
  {
   "cell_type": "code",
   "execution_count": 1,
   "metadata": {},
   "outputs": [
    {
     "name": "stdout",
     "output_type": "stream",
     "text": [
      "Populating the interactive namespace from numpy and matplotlib\n"
     ]
    }
   ],
   "source": [
    "%pylab inline"
   ]
  },
  {
   "cell_type": "code",
   "execution_count": 2,
   "metadata": {
    "collapsed": true
   },
   "outputs": [],
   "source": [
    "import pandas as pd\n",
    "import sqlite3\n",
    "import seaborn as sns"
   ]
  },
  {
   "cell_type": "code",
   "execution_count": 4,
   "metadata": {},
   "outputs": [
    {
     "data": {
      "text/plain": [
       "array(['conf/doa', 'conf/ecoop', 'conf/ecoop', 'conf/ecoop', 'conf/fmco',\n",
       "       'conf/fmoods', 'conf/foveoos', 'conf/isorc', 'conf/oois',\n",
       "       'conf/oopsla', 'conf/tools', 'journals/joop', 'journals/jot',\n",
       "       'journals/oos'], dtype=object)"
      ]
     },
     "execution_count": 4,
     "metadata": {},
     "output_type": "execute_result"
    }
   ],
   "source": [
    "venues_table = 'venues.xlsx'\n",
    "venues = pd.read_excel(venues_table)\n",
    "venues = venues[venues.relevance == 100]\n",
    "path = 'http://dblp.org/db/'\n",
    "venues = venues.url.apply(lambda v: v.replace(path, '')).values\n",
    "venues"
   ]
  },
  {
   "cell_type": "code",
   "execution_count": 6,
   "metadata": {
    "collapsed": true
   },
   "outputs": [],
   "source": [
    "db = 'cache.sqlite'\n",
    "connection = sqlite3.connect(db)\n",
    "carriers = pd.read_sql('''select id, crossref, url from carrier''', connection)\n",
    "\n",
    "def make_venue(row):\n",
    "    if not row.crossref:\n",
    "        return '/'.join(row.url.split('/')[1:-1])\n",
    "    return '/'.join(row.crossref.split('/')[:-1])\n",
    "\n",
    "carriers['venue'] = carriers.apply(make_venue, axis=1)\n",
    "relevant_carriers = carriers[carriers.venue.isin(venues)]\n",
    "relevant_carriers = relevant_carriers.rename(columns={'id': 'carrier_id'})"
   ]
  },
  {
   "cell_type": "code",
   "execution_count": 7,
   "metadata": {
    "collapsed": true
   },
   "outputs": [],
   "source": [
    "papers = pd.read_sql('select *, c.content as pdf_path from paper join cache c on pdf_record = c.id', connection)"
   ]
  },
  {
   "cell_type": "code",
   "execution_count": 8,
   "metadata": {
    "collapsed": true
   },
   "outputs": [],
   "source": [
    "result = papers.join(relevant_carriers, on='carrier_id',  rsuffix='_parent')\n",
    "df = result[result.venue.notnull()]"
   ]
  },
  {
   "cell_type": "code",
   "execution_count": 9,
   "metadata": {
    "scrolled": true
   },
   "outputs": [
    {
     "data": {
      "text/plain": [
       "<matplotlib.axes._subplots.AxesSubplot at 0x1c945f14860>"
      ]
     },
     "execution_count": 9,
     "metadata": {},
     "output_type": "execute_result"
    },
    {
     "data": {
      "image/png": "[encoded data removed]",
      "text/plain": [
       "<matplotlib.figure.Figure at 0x1c948f4ae48>"
      ]
     },
     "metadata": {},
     "output_type": "display_data"
    }
   ],
   "source": [
    "sns.distplot(df.year.apply(int))"
   ]
  },
  {
   "cell_type": "markdown",
   "metadata": {},
   "source": [
    "Save intermediate Result:\n",
    "\n",
    "<div class=\"alert alert-danger\">\n",
    "<h1>TODO</h1>\n",
    "Some paths do not contain proper filenames, but HTML content. Clean it up    \n",
    "</div>"
   ]
  },
  {
   "cell_type": "code",
   "execution_count": 13,
   "metadata": {
    "collapsed": true
   },
   "outputs": [],
   "source": [
    "import os\n",
    "DIRECTORY = ''\n",
    "filename = 'documents.txt'\n",
    "\n",
    "paths = (value for value in df.pdf_path.values if not '<' in str(value))\n",
    "with open(filename, 'w') as f:\n",
    "    for path in map(str, paths):\n",
    "        f.write(os.path.join(DIRECTORY, path.replace('.pdf', '.txt')) + '\\n')"
   ]
  }
 ],
 "metadata": {
  "kernelspec": {
   "display_name": "Python 3",
   "language": "python",
   "name": "python3"
  },
  "language_info": {
   "codemirror_mode": {
    "name": "ipython",
    "version": 3
   },
   "file_extension": ".py",
   "mimetype": "text/x-python",
   "name": "python",
   "nbconvert_exporter": "python",
   "pygments_lexer": "ipython3",
   "version": "3.6.1"
  }
 },
 "nbformat": 4,
 "nbformat_minor": 2
}
