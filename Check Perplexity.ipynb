{
 "cells": [
  {
   "cell_type": "code",
   "execution_count": 1,
   "metadata": {},
   "outputs": [
    {
     "name": "stdout",
     "output_type": "stream",
     "text": [
      "Populating the interactive namespace from numpy and matplotlib\n"
     ]
    }
   ],
   "source": [
    "%pylab inline"
   ]
  },
  {
   "cell_type": "code",
   "execution_count": 2,
   "metadata": {},
   "outputs": [],
   "source": [
    "from corpus import *\n",
    "import pandas as pd\n",
    "import seaborn as sns"
   ]
  },
  {
   "cell_type": "code",
   "execution_count": 3,
   "metadata": {},
   "outputs": [],
   "source": [
    "dicts = [Json(file).dict() for file in Filter(Directory('runs'), '.txt')]\n",
    "df = pd.DataFrame(dicts).sort_values(by='doc_topic_prior')\n",
    "# df.columns\n",
    "# doc_topic_prior\n",
    "# topic_word_prior"
   ]
  },
  {
   "cell_type": "code",
   "execution_count": 4,
   "metadata": {},
   "outputs": [
    {
     "data": {
      "text/plain": [
       "0     0.05\n",
       "1     0.10\n",
       "11    0.15\n",
       "12    0.20\n",
       "13    0.25\n",
       "14    0.30\n",
       "15    0.35\n",
       "16    0.40\n",
       "17    0.45\n",
       "18    0.50\n",
       "2     0.55\n",
       "3     0.60\n",
       "4     0.65\n",
       "5     0.70\n",
       "6     0.75\n",
       "7     0.80\n",
       "8     0.85\n",
       "9     0.90\n",
       "10    0.95\n",
       "Name: doc_topic_prior, dtype: float64"
      ]
     },
     "execution_count": 4,
     "metadata": {},
     "output_type": "execute_result"
    }
   ],
   "source": [
    "df.doc_topic_prior"
   ]
  },
  {
   "cell_type": "code",
   "execution_count": 5,
   "metadata": {},
   "outputs": [
    {
     "data": {
      "text/plain": [
       "<matplotlib.axes._subplots.AxesSubplot at 0x1d27a76bb00>"
      ]
     },
     "execution_count": 5,
     "metadata": {},
     "output_type": "execute_result"
    },
    {
     "data": {
      "image/png": "[encoded data removed]",
      "text/plain": [
       "<matplotlib.figure.Figure at 0x1d27a76b470>"
      ]
     },
     "metadata": {},
     "output_type": "display_data"
    }
   ],
   "source": [
    "tf = df[['perplexity', 'doc_topic_prior']]\n",
    "sns.regplot(data=tf, x='perplexity', y='doc_topic_prior')"
   ]
  },
  {
   "cell_type": "code",
   "execution_count": 6,
   "metadata": {
    "collapsed": true
   },
   "outputs": [],
   "source": [
    "from moment import Moment"
   ]
  },
  {
   "cell_type": "code",
   "execution_count": 7,
   "metadata": {},
   "outputs": [],
   "source": [
    "df['duration'] = df.apply(lambda row: (Moment.from_string(row.end) - Moment.from_string(row.start)), axis=1)"
   ]
  },
  {
   "cell_type": "code",
   "execution_count": 10,
   "metadata": {},
   "outputs": [
    {
     "data": {
      "text/plain": [
       "0     5.250000\n",
       "1     5.133333\n",
       "11    5.116667\n",
       "12    5.116667\n",
       "13    5.266667\n",
       "14    5.283333\n",
       "15    5.266667\n",
       "16    5.166667\n",
       "17    5.300000\n",
       "18    5.216667\n",
       "2     5.066667\n",
       "3     4.916667\n",
       "4     4.716667\n",
       "5     4.516667\n",
       "6     4.316667\n",
       "7     4.366667\n",
       "8     4.266667\n",
       "9     4.283333\n",
       "10    4.000000\n",
       "Name: duration, dtype: float64"
      ]
     },
     "execution_count": 10,
     "metadata": {},
     "output_type": "execute_result"
    }
   ],
   "source": [
    "df.duration / 60 / 60"
   ]
  }
 ],
 "metadata": {
  "kernelspec": {
   "display_name": "Python 3",
   "language": "python",
   "name": "python3"
  },
  "language_info": {
   "codemirror_mode": {
    "name": "ipython",
    "version": 3
   },
   "file_extension": ".py",
   "mimetype": "text/x-python",
   "name": "python",
   "nbconvert_exporter": "python",
   "pygments_lexer": "ipython3",
   "version": "3.6.1"
  }
 },
 "nbformat": 4,
 "nbformat_minor": 2
}
